{
 "cells": [
  {
   "cell_type": "markdown",
   "metadata": {},
   "source": [
    "# 词袋模型图像分类"
   ]
  },
  {
   "cell_type": "markdown",
   "metadata": {},
   "source": [
    "### 1. 数据加载"
   ]
  },
  {
   "cell_type": "code",
   "execution_count": 2,
   "metadata": {},
   "outputs": [],
   "source": [
    "import torch\n",
    "from torch.utils.data import DataLoader, Dataset\n",
    "from torchvision import datasets\n",
    "from torchvision.transforms import ToTensor\n",
    "import torch.nn as nn\n",
    "import torch.nn.functional as F"
   ]
  },
  {
   "cell_type": "code",
   "execution_count": 3,
   "metadata": {},
   "outputs": [],
   "source": [
    "\n",
    "\n",
    "class FilteredDataset(torch.utils.data.Dataset):\n",
    "    def __init__(self, dataset, classes):\n",
    "        self.dataset = dataset\n",
    "        self.classes = classes\n",
    "        self.filtered_indices = [i for i, (_, label) in enumerate(dataset) if label in classes]\n",
    "\n",
    "    def __len__(self):\n",
    "        return len(self.filtered_indices)\n",
    "\n",
    "    def __getitem__(self, idx):\n",
    "        original_idx = self.filtered_indices[idx]\n",
    "        return self.dataset[original_idx]\n",
    "\n",
    "# 加载完整的Fashion-MNIST数据集\n",
    "full_dataset = datasets.FashionMNIST(\n",
    "    root='data',\n",
    "    train=True,\n",
    "    download=True,\n",
    "    transform=ToTensor()\n",
    ")\n",
    "# 加载测试数据集\n",
    "test_dataset = datasets.FashionMNIST(\n",
    "    root='data',\n",
    "    train=False,\n",
    "    download=True,\n",
    "    transform=ToTensor()\n",
    ")\n",
    "# 过滤出0-4类\n",
    "filtered_dataset = FilteredDataset(full_dataset, classes=[0, 1, 2, 3, 4])\n",
    "test_filtered_dataset = FilteredDataset(test_dataset, classes=[0, 1, 2, 3, 4])\n",
    "# 创建数据加载器\n",
    "data_loader = DataLoader(filtered_dataset, batch_size=64, shuffle=True)\n",
    "test_loader = DataLoader(test_filtered_dataset, batch_size=64, shuffle=True)"
   ]
  },
  {
   "cell_type": "markdown",
   "metadata": {},
   "source": [
    "从DataLoader中获取一个batch数据看看"
   ]
  },
  {
   "cell_type": "code",
   "execution_count": 4,
   "metadata": {},
   "outputs": [
    {
     "name": "stdout",
     "output_type": "stream",
     "text": [
      "torch.Size([64, 1, 28, 28])\n",
      "tensor([3, 1, 1, 1, 0, 0, 3, 2, 0, 0, 4, 0, 0, 3, 0, 4, 3, 3, 0, 0, 0, 1, 3, 2,\n",
      "        3, 0, 0, 1, 2, 4, 1, 0, 3, 2, 3, 1, 2, 3, 4, 3, 3, 4, 4, 0, 2, 0, 1, 4,\n",
      "        4, 4, 0, 4, 4, 2, 2, 1, 3, 2, 4, 2, 3, 0, 0, 2])\n",
      "torch.Size([64, 1, 28, 28])\n",
      "tensor([4, 3, 3, 0, 2, 4, 1, 2, 4, 3, 1, 1, 0, 3, 0, 4, 1, 0, 3, 1, 3, 0, 2, 0,\n",
      "        0, 0, 0, 2, 2, 3, 2, 2, 1, 2, 2, 4, 1, 0, 3, 1, 3, 3, 4, 0, 3, 1, 4, 4,\n",
      "        3, 1, 3, 3, 4, 3, 2, 1, 0, 4, 4, 0, 1, 0, 2, 4])\n"
     ]
    }
   ],
   "source": [
    "images, labels = next(iter(data_loader))\n",
    "print(images.shape)\n",
    "print(labels)\n",
    "images, labels = next(iter(test_loader))\n",
    "print(images.shape)\n",
    "print(labels)"
   ]
  },
  {
   "cell_type": "markdown",
   "metadata": {},
   "source": [
    "都是0-4范围内的标签，说明数据加载器没问题"
   ]
  },
  {
   "cell_type": "markdown",
   "metadata": {},
   "source": [
    "### 2. SIFT特征提取器"
   ]
  },
  {
   "cell_type": "code",
   "execution_count": 5,
   "metadata": {},
   "outputs": [],
   "source": [
    "import cv2\n",
    "import numpy as np\n",
    "def extract_sift_features(dataset):\n",
    "    sift = cv2.SIFT_create()\n",
    "    all_descriptors = []\n",
    "\n",
    "    for i in range(len(dataset)):\n",
    "        image, label = dataset[i]\n",
    "        # 将图像从Tensor转换为NumPy数组，并调整为OpenCV格式\n",
    "        image_np = image.numpy().squeeze() * 255\n",
    "        image_np = image_np.astype(np.uint8)\n",
    "\n",
    "        # 检测SIFT特征点并计算描述符\n",
    "        keypoints, descriptors = sift.detectAndCompute(image_np, None)\n",
    "        if descriptors is not None:\n",
    "            all_descriptors.append(descriptors)\n",
    "\n",
    "    return all_descriptors"
   ]
  },
  {
   "cell_type": "code",
   "execution_count": 6,
   "metadata": {},
   "outputs": [
    {
     "name": "stdout",
     "output_type": "stream",
     "text": [
      "26257\n"
     ]
    }
   ],
   "source": [
    "\n",
    "sift_features = extract_sift_features(filtered_dataset)\n",
    "print(len(sift_features))\n"
   ]
  },
  {
   "cell_type": "markdown",
   "metadata": {},
   "source": [
    "### 3. 聚类得到视觉单词"
   ]
  },
  {
   "cell_type": "code",
   "execution_count": 7,
   "metadata": {},
   "outputs": [
    {
     "name": "stderr",
     "output_type": "stream",
     "text": [
      "/home/steve1111/anaconda3/envs/cv/lib/python3.8/site-packages/sklearn/cluster/_kmeans.py:1412: FutureWarning: The default value of `n_init` will change from 10 to 'auto' in 1.4. Set the value of `n_init` explicitly to suppress the warning\n",
      "  super()._check_params_vs_input(X, default_n_init=10)\n"
     ]
    }
   ],
   "source": [
    "\n",
    "from sklearn.cluster import KMeans\n",
    "\n",
    "# 将所有描述符合并为一个大的NumPy数组\n",
    "all_descriptors = np.vstack(sift_features)\n",
    "\n",
    "# 设置聚类的视觉单词数量\n",
    "num_clusters = 100\n",
    "\n",
    "# 使用KMeans进行聚类\n",
    "kmeans = KMeans(n_clusters=num_clusters, random_state=0)\n",
    "kmeans.fit(all_descriptors)\n",
    "\n",
    "# 获取聚类中心，这些中心即为视觉单词\n",
    "visual_words = kmeans.cluster_centers_"
   ]
  },
  {
   "cell_type": "markdown",
   "metadata": {},
   "source": [
    "### 4. 生成直方图并训练模型\n"
   ]
  },
  {
   "cell_type": "code",
   "execution_count": 8,
   "metadata": {},
   "outputs": [],
   "source": [
    "from sklearn.svm import SVC\n",
    "from sklearn.preprocessing import StandardScaler\n",
    "from sklearn.pipeline import make_pipeline\n",
    "from sklearn.model_selection import train_test_split\n",
    "from sklearn.metrics import accuracy_score\n",
    "\n",
    "\n",
    "def compute_histogram(descriptors, visual_words):\n",
    "    # 初始化直方图\n",
    "    histogram = np.zeros(len(visual_words))\n",
    "    # 计算每个描述符到视觉单词的距离\n",
    "    for descriptor in descriptors:\n",
    "        distances = np.linalg.norm(visual_words - descriptor, axis=1)\n",
    "        # 找到最近的视觉单词\n",
    "        nearest_word = np.argmin(distances)\n",
    "        # 增加该视觉单词的计数\n",
    "        histogram[nearest_word] += 1\n",
    "    return histogram\n",
    "\n",
    "# 为每个图像计算视觉单词直方图\n",
    "def compute_histograms(dataset, visual_words):\n",
    "    histograms = []\n",
    "    labels = []\n",
    "    for i in range(len(dataset)):\n",
    "        sift = cv2.SIFT_create()\n",
    "        image, label = dataset[i]\n",
    "        image_np = image.numpy().squeeze() * 255\n",
    "        image_np = image_np.astype(np.uint8)\n",
    "        # 提取SIFT特征\n",
    "        keypoints, descriptors = sift.detectAndCompute(image_np, None)\n",
    "        if descriptors is not None:\n",
    "            histogram = compute_histogram(descriptors, visual_words)\n",
    "            histograms.append(histogram)\n",
    "            labels.append(label)\n",
    "    return np.array(histograms), np.array(labels)\n",
    "\n"
   ]
  },
  {
   "cell_type": "code",
   "execution_count": 13,
   "metadata": {},
   "outputs": [
    {
     "name": "stdout",
     "output_type": "stream",
     "text": [
      "[0. 0. 0. 0. 1. 0. 0. 0. 0. 0. 0. 1. 0. 0. 0. 0. 0. 0. 0. 0. 0. 0. 0. 0.\n",
      " 0. 0. 0. 0. 0. 0. 0. 0. 0. 0. 0. 0. 1. 0. 0. 0. 0. 0. 0. 0. 0. 0. 0. 0.\n",
      " 0. 0. 1. 1. 1. 0. 0. 0. 0. 0. 0. 0. 0. 0. 0. 0. 0. 0. 0. 0. 0. 0. 0. 0.\n",
      " 0. 0. 0. 0. 0. 0. 0. 0. 0. 0. 0. 0. 0. 0. 0. 1. 0. 0. 0. 0. 0. 0. 0. 0.\n",
      " 0. 0. 1. 0.]\n"
     ]
    }
   ],
   "source": [
    "# 计算训练集的直方图\n",
    "train_histograms, train_labels = compute_histograms(filtered_dataset, visual_words)\n",
    "# 计算测试集的直方图\n",
    "test_histograms, test_labels = compute_histograms(test_filtered_dataset, visual_words)\n",
    "print(train_histograms[0])"
   ]
  },
  {
   "cell_type": "markdown",
   "metadata": {},
   "source": [
    "### 5. 训练并测试模型"
   ]
  },
  {
   "cell_type": "code",
   "execution_count": 15,
   "metadata": {},
   "outputs": [
    {
     "name": "stdout",
     "output_type": "stream",
     "text": [
      "Test Accuracy: 63.25%\n"
     ]
    }
   ],
   "source": [
    "# 创建并训练SVM模型\n",
    "svm_model = make_pipeline(StandardScaler(), SVC(kernel='linear'))\n",
    "svm_model.fit(train_histograms, train_labels)\n",
    "\n",
    "# 在测试集上评估模型\n",
    "y_pred = svm_model.predict(test_histograms)\n",
    "accuracy = accuracy_score(test_labels, y_pred)\n",
    "print(f'Test Accuracy: {accuracy * 100:.2f}%')"
   ]
  },
  {
   "cell_type": "markdown",
   "metadata": {},
   "source": [
    "### 6. 测试一张图片"
   ]
  },
  {
   "cell_type": "code",
   "execution_count": 19,
   "metadata": {},
   "outputs": [
    {
     "name": "stdout",
     "output_type": "stream",
     "text": [
      "original label: 3\n"
     ]
    },
    {
     "data": {
      "image/png": "[encoded data removed]",
      "text/plain": [
       "<Figure size 640x480 with 1 Axes>"
      ]
     },
     "metadata": {},
     "output_type": "display_data"
    },
    {
     "name": "stdout",
     "output_type": "stream",
     "text": [
      "predicted label: [3]\n"
     ]
    }
   ],
   "source": [
    "import matplotlib.pyplot as plt\n",
    "\n",
    "image, label = test_filtered_dataset[1586]\n",
    "print('original label:', label)\n",
    "plt.imshow(image.squeeze(), cmap='gray')\n",
    "plt.show()\n",
    "# 提取SIFT特征并计算直方图\n",
    "image_np = image.numpy().squeeze() * 255\n",
    "image_np = image_np.astype(np.uint8)\n",
    "sift = cv2.SIFT_create()\n",
    "keypoints, descriptors = sift.detectAndCompute(image_np, None)\n",
    "if descriptors is not None:\n",
    "    histogram = compute_histogram(descriptors, visual_words)\n",
    "    histogram = histogram.reshape(1, -1)  # 重塑为2D数组\n",
    "\n",
    "output = svm_model.predict(histogram)\n",
    "print('predicted label:', output)\n"
   ]
  }
 ],
 "metadata": {
  "kernelspec": {
   "display_name": "cv",
   "language": "python",
   "name": "python3"
  },
  "language_info": {
   "codemirror_mode": {
    "name": "ipython",
    "version": 3
   },
   "file_extension": ".py",
   "mimetype": "text/x-python",
   "name": "python",
   "nbconvert_exporter": "python",
   "pygments_lexer": "ipython3",
   "version": "3.8.20"
  }
 },
 "nbformat": 4,
 "nbformat_minor": 2
}
